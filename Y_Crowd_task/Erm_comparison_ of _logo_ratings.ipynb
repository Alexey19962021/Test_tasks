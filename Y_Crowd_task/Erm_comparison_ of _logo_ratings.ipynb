{
 "cells": [
  {
   "cell_type": "markdown",
   "id": "3765abb8",
   "metadata": {},
   "source": [
    "# Сравнение оценивания логотипов двух компаний"
   ]
  },
  {
   "cell_type": "markdown",
   "id": "c1f58811",
   "metadata": {},
   "source": [
    "Решаемые задачи\n",
    "\n",
    "Подтвердите или опровергните следующие гипотезы:\n",
    "- распределение оценок логотипа X можно описать как нормальное\n",
    "- логотип компании Y в среднем оценивают значимо выше, чем логотип компании X\n",
    "- нет никакой зависимости между оценкой логотипа X и возрастом респондентов"
   ]
  },
  {
   "cell_type": "markdown",
   "id": "dc830467",
   "metadata": {},
   "source": [
    "## Импорт библиотек"
   ]
  },
  {
   "cell_type": "code",
   "execution_count": 1,
   "id": "6d7a06d3",
   "metadata": {},
   "outputs": [],
   "source": [
    "%matplotlib inline\n",
    "import random\n",
    "import pandas as pd\n",
    "import numpy as np\n",
    "import scipy.stats as st \n",
    "import matplotlib.pyplot as plt\n",
    "import seaborn as sns\n",
    "import statsmodels.api as sm\n",
    "from sklearn.preprocessing import StandardScaler\n",
    "from scipy.stats import kstest\n",
    "import warnings\n",
    "\n",
    "warnings.filterwarnings(\"ignore\")\n",
    "pd.options.display.max_columns = None\n",
    "pd.options.mode.chained_assignment = None\n",
    "plt.style.use('dark_background')"
   ]
  },
  {
   "cell_type": "markdown",
   "id": "419dcc44",
   "metadata": {},
   "source": [
    "## Загрузка данных и предварительный просмотр"
   ]
  },
  {
   "cell_type": "code",
   "execution_count": 2,
   "id": "b49198cd",
   "metadata": {},
   "outputs": [],
   "source": [
    "try:\n",
    "    data = pd.read_excel('marketplaces.xlsx', header=1,\n",
    "                         names=['number', 'x_scores', 'y_scores', 'age_group'])\n",
    "except:\n",
    "    print('Добавь файл с данными в текущую папку (где открыт файл ноутбука)')"
   ]
  },
  {
   "cell_type": "code",
   "execution_count": 3,
   "id": "2fa282db",
   "metadata": {
    "scrolled": true
   },
   "outputs": [
    {
     "name": "stdout",
     "output_type": "stream",
     "text": [
      "<class 'pandas.core.frame.DataFrame'>\n",
      "RangeIndex: 1469 entries, 0 to 1468\n",
      "Data columns (total 4 columns):\n",
      " #   Column     Non-Null Count  Dtype  \n",
      "---  ------     --------------  -----  \n",
      " 0   number     1469 non-null   float64\n",
      " 1   x_scores   1203 non-null   object \n",
      " 2   y_scores   1203 non-null   object \n",
      " 3   age_group  1469 non-null   object \n",
      "dtypes: float64(1), object(3)\n",
      "memory usage: 46.0+ KB\n"
     ]
    },
    {
     "data": {
      "text/html": [
       "<div>\n",
       "<style scoped>\n",
       "    .dataframe tbody tr th:only-of-type {\n",
       "        vertical-align: middle;\n",
       "    }\n",
       "\n",
       "    .dataframe tbody tr th {\n",
       "        vertical-align: top;\n",
       "    }\n",
       "\n",
       "    .dataframe thead th {\n",
       "        text-align: right;\n",
       "    }\n",
       "</style>\n",
       "<table border=\"1\" class=\"dataframe\">\n",
       "  <thead>\n",
       "    <tr style=\"text-align: right;\">\n",
       "      <th></th>\n",
       "      <th>number</th>\n",
       "      <th>x_scores</th>\n",
       "      <th>y_scores</th>\n",
       "      <th>age_group</th>\n",
       "    </tr>\n",
       "  </thead>\n",
       "  <tbody>\n",
       "    <tr>\n",
       "      <th>0</th>\n",
       "      <td>1.0</td>\n",
       "      <td>Ни разу не видел(-а)</td>\n",
       "      <td>Ни разу не видел(-а)</td>\n",
       "      <td>25 - 34 года</td>\n",
       "    </tr>\n",
       "    <tr>\n",
       "      <th>1</th>\n",
       "      <td>2.0</td>\n",
       "      <td>4.0</td>\n",
       "      <td>7.0</td>\n",
       "      <td>18 - 24 года</td>\n",
       "    </tr>\n",
       "    <tr>\n",
       "      <th>2</th>\n",
       "      <td>3.0</td>\n",
       "      <td>9.0</td>\n",
       "      <td>Ни разу не видел(-а)</td>\n",
       "      <td>25 - 34 года</td>\n",
       "    </tr>\n",
       "    <tr>\n",
       "      <th>3</th>\n",
       "      <td>4.0</td>\n",
       "      <td>7.0</td>\n",
       "      <td>7.0</td>\n",
       "      <td>35 - 45 лет</td>\n",
       "    </tr>\n",
       "    <tr>\n",
       "      <th>4</th>\n",
       "      <td>6.0</td>\n",
       "      <td>8.0</td>\n",
       "      <td>9.0</td>\n",
       "      <td>25 - 34 года</td>\n",
       "    </tr>\n",
       "    <tr>\n",
       "      <th>5</th>\n",
       "      <td>7.0</td>\n",
       "      <td>Ни разу не видел(-а)</td>\n",
       "      <td>10.0</td>\n",
       "      <td>25 - 34 года</td>\n",
       "    </tr>\n",
       "    <tr>\n",
       "      <th>6</th>\n",
       "      <td>8.0</td>\n",
       "      <td>9.0</td>\n",
       "      <td>7.0</td>\n",
       "      <td>18 - 24 года</td>\n",
       "    </tr>\n",
       "    <tr>\n",
       "      <th>7</th>\n",
       "      <td>9.0</td>\n",
       "      <td>10.0</td>\n",
       "      <td>10.0</td>\n",
       "      <td>25 - 34 года</td>\n",
       "    </tr>\n",
       "    <tr>\n",
       "      <th>8</th>\n",
       "      <td>10.0</td>\n",
       "      <td>9.0</td>\n",
       "      <td>9.0</td>\n",
       "      <td>35 - 45 лет</td>\n",
       "    </tr>\n",
       "    <tr>\n",
       "      <th>9</th>\n",
       "      <td>11.0</td>\n",
       "      <td>Ни разу не видел(-а)</td>\n",
       "      <td>Ни разу не видел(-а)</td>\n",
       "      <td>25 - 34 года</td>\n",
       "    </tr>\n",
       "  </tbody>\n",
       "</table>\n",
       "</div>"
      ],
      "text/plain": [
       "   number              x_scores              y_scores     age_group\n",
       "0     1.0  Ни разу не видел(-а)  Ни разу не видел(-а)  25 - 34 года\n",
       "1     2.0                   4.0                   7.0  18 - 24 года\n",
       "2     3.0                   9.0  Ни разу не видел(-а)  25 - 34 года\n",
       "3     4.0                   7.0                   7.0   35 - 45 лет\n",
       "4     6.0                   8.0                   9.0  25 - 34 года\n",
       "5     7.0  Ни разу не видел(-а)                  10.0  25 - 34 года\n",
       "6     8.0                   9.0                   7.0  18 - 24 года\n",
       "7     9.0                  10.0                  10.0  25 - 34 года\n",
       "8    10.0                   9.0                   9.0   35 - 45 лет\n",
       "9    11.0  Ни разу не видел(-а)  Ни разу не видел(-а)  25 - 34 года"
      ]
     },
     "execution_count": 3,
     "metadata": {},
     "output_type": "execute_result"
    }
   ],
   "source": [
    "data.info()\n",
    "data.head(10)"
   ]
  },
  {
   "cell_type": "markdown",
   "id": "9928195a",
   "metadata": {},
   "source": [
    "## Предобработка"
   ]
  },
  {
   "cell_type": "markdown",
   "id": "1000edb7",
   "metadata": {},
   "source": [
    "Больше 200 строк с пропусками в столбцах с оценками логотипов. Они нам явно не нужны.\n",
    "\n",
    "Также для анализа распределений портят картину значения \"Ни разу не видел(-а)\"."
   ]
  },
  {
   "cell_type": "markdown",
   "id": "0a82fd29",
   "metadata": {},
   "source": [
    "Создадим \"чистый\" датафрейм, без пропусков в колонках с оценками и без статуса \"не видел(а)\" "
   ]
  },
  {
   "cell_type": "code",
   "execution_count": 4,
   "id": "9c6ccfdc",
   "metadata": {},
   "outputs": [
    {
     "data": {
      "text/html": [
       "<div>\n",
       "<style scoped>\n",
       "    .dataframe tbody tr th:only-of-type {\n",
       "        vertical-align: middle;\n",
       "    }\n",
       "\n",
       "    .dataframe tbody tr th {\n",
       "        vertical-align: top;\n",
       "    }\n",
       "\n",
       "    .dataframe thead th {\n",
       "        text-align: right;\n",
       "    }\n",
       "</style>\n",
       "<table border=\"1\" class=\"dataframe\">\n",
       "  <thead>\n",
       "    <tr style=\"text-align: right;\">\n",
       "      <th></th>\n",
       "      <th>number</th>\n",
       "      <th>x_scores</th>\n",
       "      <th>y_scores</th>\n",
       "      <th>age_group</th>\n",
       "    </tr>\n",
       "  </thead>\n",
       "  <tbody>\n",
       "    <tr>\n",
       "      <th>1</th>\n",
       "      <td>2.0</td>\n",
       "      <td>4.0</td>\n",
       "      <td>7.0</td>\n",
       "      <td>18 - 24 года</td>\n",
       "    </tr>\n",
       "    <tr>\n",
       "      <th>3</th>\n",
       "      <td>4.0</td>\n",
       "      <td>7.0</td>\n",
       "      <td>7.0</td>\n",
       "      <td>35 - 45 лет</td>\n",
       "    </tr>\n",
       "    <tr>\n",
       "      <th>4</th>\n",
       "      <td>6.0</td>\n",
       "      <td>8.0</td>\n",
       "      <td>9.0</td>\n",
       "      <td>25 - 34 года</td>\n",
       "    </tr>\n",
       "    <tr>\n",
       "      <th>6</th>\n",
       "      <td>8.0</td>\n",
       "      <td>9.0</td>\n",
       "      <td>7.0</td>\n",
       "      <td>18 - 24 года</td>\n",
       "    </tr>\n",
       "    <tr>\n",
       "      <th>7</th>\n",
       "      <td>9.0</td>\n",
       "      <td>10.0</td>\n",
       "      <td>10.0</td>\n",
       "      <td>25 - 34 года</td>\n",
       "    </tr>\n",
       "    <tr>\n",
       "      <th>...</th>\n",
       "      <td>...</td>\n",
       "      <td>...</td>\n",
       "      <td>...</td>\n",
       "      <td>...</td>\n",
       "    </tr>\n",
       "    <tr>\n",
       "      <th>1197</th>\n",
       "      <td>290.0</td>\n",
       "      <td>10.0</td>\n",
       "      <td>10.0</td>\n",
       "      <td>35 - 45 лет</td>\n",
       "    </tr>\n",
       "    <tr>\n",
       "      <th>1198</th>\n",
       "      <td>291.0</td>\n",
       "      <td>9.0</td>\n",
       "      <td>9.0</td>\n",
       "      <td>35 - 45 лет</td>\n",
       "    </tr>\n",
       "    <tr>\n",
       "      <th>1200</th>\n",
       "      <td>293.0</td>\n",
       "      <td>10.0</td>\n",
       "      <td>10.0</td>\n",
       "      <td>35 - 45 лет</td>\n",
       "    </tr>\n",
       "    <tr>\n",
       "      <th>1201</th>\n",
       "      <td>294.0</td>\n",
       "      <td>10.0</td>\n",
       "      <td>7.0</td>\n",
       "      <td>35 - 45 лет</td>\n",
       "    </tr>\n",
       "    <tr>\n",
       "      <th>1202</th>\n",
       "      <td>295.0</td>\n",
       "      <td>5.0</td>\n",
       "      <td>6.0</td>\n",
       "      <td>35 - 45 лет</td>\n",
       "    </tr>\n",
       "  </tbody>\n",
       "</table>\n",
       "<p>936 rows × 4 columns</p>\n",
       "</div>"
      ],
      "text/plain": [
       "      number x_scores y_scores     age_group\n",
       "1        2.0      4.0      7.0  18 - 24 года\n",
       "3        4.0      7.0      7.0   35 - 45 лет\n",
       "4        6.0      8.0      9.0  25 - 34 года\n",
       "6        8.0      9.0      7.0  18 - 24 года\n",
       "7        9.0     10.0     10.0  25 - 34 года\n",
       "...      ...      ...      ...           ...\n",
       "1197   290.0     10.0     10.0   35 - 45 лет\n",
       "1198   291.0      9.0      9.0   35 - 45 лет\n",
       "1200   293.0     10.0     10.0   35 - 45 лет\n",
       "1201   294.0     10.0      7.0   35 - 45 лет\n",
       "1202   295.0      5.0      6.0   35 - 45 лет\n",
       "\n",
       "[936 rows x 4 columns]"
      ]
     },
     "execution_count": 4,
     "metadata": {},
     "output_type": "execute_result"
    }
   ],
   "source": [
    "df = data.loc[(data['x_scores'] != 'Ни разу не видел(-а)') &\n",
    "              (data['y_scores'] != 'Ни разу не видел(-а)') &\n",
    "              (~ data['x_scores'].isnull()) &\n",
    "              (~ data['y_scores'].isnull())]\n",
    "df"
   ]
  },
  {
   "cell_type": "markdown",
   "id": "34c8a69e",
   "metadata": {},
   "source": [
    "Зададимся вопросом много ли таких людей, кто видел логотип одной компании и не видел другой, чтобы понимать, насколько много данных мы потеряли (не считая строки, где в оценках вообще были пропуски)."
   ]
  },
  {
   "cell_type": "code",
   "execution_count": 5,
   "id": "bbcfb803",
   "metadata": {
    "scrolled": true
   },
   "outputs": [],
   "source": [
    "shape_only_score = data.loc[((data['x_scores'] != 'Ни разу не видел(-а)') &\n",
    "              (data['y_scores'] == 'Ни разу не видел(-а)')) |\n",
    "        ((data['y_scores'] != 'Ни разу не видел(-а)') &\n",
    "              (data['x_scores'] == 'Ни разу не видел(-а)'))].shape[0]"
   ]
  },
  {
   "cell_type": "code",
   "execution_count": 6,
   "id": "5d2f4f65",
   "metadata": {},
   "outputs": [
    {
     "data": {
      "text/plain": [
       "0.15217391304347827"
      ]
     },
     "execution_count": 6,
     "metadata": {},
     "output_type": "execute_result"
    }
   ],
   "source": [
    "shape_only_score / (shape_only_score + df.shape[0])"
   ]
  },
  {
   "cell_type": "markdown",
   "id": "73263b79",
   "metadata": {},
   "source": [
    "В целом теряем не так много данных, поэтому можем отказаться от них.\n",
    "\n",
    "P.S. Другим вероятным вариантом будет приравнять значение  \"не видел(а)\" среднему значению по выборке. Однако мы считаем это не совсем справедливым фактом в данном случае."
   ]
  },
  {
   "cell_type": "code",
   "execution_count": 7,
   "id": "a09c815a",
   "metadata": {
    "scrolled": true
   },
   "outputs": [
    {
     "name": "stdout",
     "output_type": "stream",
     "text": [
      "<class 'pandas.core.frame.DataFrame'>\n",
      "RangeIndex: 936 entries, 0 to 935\n",
      "Data columns (total 4 columns):\n",
      " #   Column     Non-Null Count  Dtype  \n",
      "---  ------     --------------  -----  \n",
      " 0   number     936 non-null    float64\n",
      " 1   x_scores   936 non-null    int16  \n",
      " 2   y_scores   936 non-null    int16  \n",
      " 3   age_group  936 non-null    object \n",
      "dtypes: float64(1), int16(2), object(1)\n",
      "memory usage: 18.4+ KB\n"
     ]
    }
   ],
   "source": [
    "df['x_scores'] = df['x_scores'].astype('int16')\n",
    "df['y_scores'] = df['y_scores'].astype('int16')\n",
    "df = df.reset_index(drop=True)\n",
    "df.info()"
   ]
  },
  {
   "cell_type": "markdown",
   "id": "6b829846",
   "metadata": {},
   "source": [
    "## Проверка распределения оценок логотипа X на нормальность данных"
   ]
  },
  {
   "cell_type": "markdown",
   "id": "b5bd5091",
   "metadata": {},
   "source": [
    "Одновременно посмотрим и на данные по логотипу Y."
   ]
  },
  {
   "cell_type": "code",
   "execution_count": 8,
   "id": "38d989a6",
   "metadata": {
    "scrolled": true
   },
   "outputs": [
    {
     "data": {
      "image/png": "[encoded data removed]",
      "text/plain": [
       "<Figure size 432x288 with 1 Axes>"
      ]
     },
     "metadata": {},
     "output_type": "display_data"
    }
   ],
   "source": [
    "df['x_scores'].hist()\n",
    "plt.title('Распределение частот оценок логотипов компании Х')\n",
    "plt.show()"
   ]
  },
  {
   "cell_type": "code",
   "execution_count": 18,
   "id": "dfd54a3b",
   "metadata": {
    "scrolled": true
   },
   "outputs": [
    {
     "data": {
      "image/png": "[encoded data removed]",
      "text/plain": [
       "<Figure size 432x288 with 1 Axes>"
      ]
     },
     "metadata": {},
     "output_type": "display_data"
    }
   ],
   "source": [
    "fig = sm.qqplot (df['x_scores'], line='45')\n",
    "plt.grid(True)\n",
    "plt.title('QQ-график')\n",
    "plt.show()"
   ]
  },
  {
   "cell_type": "code",
   "execution_count": 10,
   "id": "ecdfa82a",
   "metadata": {
    "scrolled": false
   },
   "outputs": [
    {
     "data": {
      "image/png": "[encoded data removed]",
      "text/plain": [
       "<Figure size 432x288 with 1 Axes>"
      ]
     },
     "metadata": {},
     "output_type": "display_data"
    }
   ],
   "source": [
    "df['y_scores'].hist()\n",
    "plt.title('Распределение частот оценок логотипов компании Y')\n",
    "plt.show()"
   ]
  },
  {
   "cell_type": "code",
   "execution_count": 11,
   "id": "19c10341",
   "metadata": {
    "scrolled": false
   },
   "outputs": [
    {
     "data": {
      "image/png": "[encoded data removed]",
      "text/plain": [
       "<Figure size 432x288 with 1 Axes>"
      ]
     },
     "metadata": {},
     "output_type": "display_data"
    }
   ],
   "source": [
    "fig = sm.qqplot (df['y_scores'], line='45')\n",
    "plt.grid(True)\n",
    "plt.title('Оценка нормальности распределения оценок логотипов компании Y при помощи QQ-графика')\n",
    "plt.show()"
   ]
  },
  {
   "cell_type": "markdown",
   "id": "4b4cba05",
   "metadata": {},
   "source": [
    "\"Не верим глазам - проверим цифрами\". Выполним тест Колмогорова-Смирнова. Если  pvalue в нем меньше порогового значения (\"альфа\" - во всех расчетах ниже примем равное 5%), это нам будет говорить, что соответствие между нашей выборкой и нормальным распределением отсутствует."
   ]
  },
  {
   "cell_type": "code",
   "execution_count": 12,
   "id": "1df4a3ff",
   "metadata": {},
   "outputs": [
    {
     "data": {
      "text/plain": [
       "KstestResult(statistic=0.9911714694897374, pvalue=0.0)"
      ]
     },
     "execution_count": 12,
     "metadata": {},
     "output_type": "execute_result"
    }
   ],
   "source": [
    "kstest(df['x_scores'], 'norm')"
   ]
  },
  {
   "cell_type": "code",
   "execution_count": 13,
   "id": "14c96dee",
   "metadata": {},
   "outputs": [
    {
     "data": {
      "text/plain": [
       "KstestResult(statistic=0.9922398455581135, pvalue=0.0)"
      ]
     },
     "execution_count": 13,
     "metadata": {},
     "output_type": "execute_result"
    }
   ],
   "source": [
    "kstest(df['y_scores'], 'norm')"
   ]
  },
  {
   "cell_type": "markdown",
   "id": "3a8b4442",
   "metadata": {},
   "source": [
    "Очевидный вывод по обеим выборкам оценок: распределения не нормальные (назовем его в данном случае линейным), о чем нам говорит визуальный анализ (гистограммы неколоколовидные, на QQ-графике данные наших распределений не лежат на крсаной прямой) и количественный.\n",
    "\n",
    "Также отметим, схожесть обеих выборок, что важно для следующего задания."
   ]
  },
  {
   "cell_type": "markdown",
   "id": "d3a57993",
   "metadata": {},
   "source": [
    "## Предположение о более высоких оценках компании Y, в сравнении с оценками компании X"
   ]
  },
  {
   "cell_type": "markdown",
   "id": "ecff2333",
   "metadata": {},
   "source": [
    "Сформулируем нулевую гипотезу (H0):\n",
    "- средние значения оценок логотипов компаний Y и Х одинаковые.\n",
    "\n",
    "Тогда альтернативная гипотеза (H1):\n",
    "- средние значения оценок логотипов компаний Y и Х различаются."
   ]
  },
  {
   "cell_type": "markdown",
   "id": "599ec1ce",
   "metadata": {},
   "source": [
    "Предполагаем, что оценки логотипов не зависят друг от друга, а распределения схожи (пусть и ненормальные)."
   ]
  },
  {
   "cell_type": "code",
   "execution_count": 21,
   "id": "a437a763",
   "metadata": {},
   "outputs": [
    {
     "name": "stdout",
     "output_type": "stream",
     "text": [
      "р-значение: 0.11055297535554891\n",
      "Нельзя отвергнуть Н0\n"
     ]
    }
   ],
   "source": [
    "x_score = df['x_scores'].values\n",
    "y_score = df['y_scores'].values\n",
    "alpha = .05\n",
    "\n",
    "results = st.ttest_ind(x_score, y_score, equal_var = False)\n",
    "\n",
    "print('р-значение:', results.pvalue)\n",
    "if results.pvalue < alpha:\n",
    "    print('Можем отвергнуть Н0')\n",
    "else:\n",
    "    print('Нельзя отвергнуть Н0')\n"
   ]
  },
  {
   "cell_type": "markdown",
   "id": "3f982c42",
   "metadata": {},
   "source": [
    "Очевидно, что p-value очень высокое и означает, что примерно в 11% случаев произойдет так, как гласит нулевая гипотеза и отвергнуть ее мы не можем. Для потвержедения этого взглянем на сами средние значения выборок"
   ]
  },
  {
   "cell_type": "code",
   "execution_count": 15,
   "id": "c0ce2bc1",
   "metadata": {},
   "outputs": [
    {
     "name": "stdout",
     "output_type": "stream",
     "text": [
      "8.35576923076923\n",
      "8.485042735042734\n"
     ]
    }
   ],
   "source": [
    "print(x_score.mean())\n",
    "print(y_score.mean())"
   ]
  },
  {
   "cell_type": "markdown",
   "id": "5bd8fa99",
   "metadata": {},
   "source": [
    "Заметно, что разница немного более 0,1 балла. И это немного, что в общем подтверждает вышепроведенный тест.\n"
   ]
  },
  {
   "cell_type": "markdown",
   "id": "db09523e",
   "metadata": {},
   "source": [
    "## Изучение зависимости между оценкой логотипа компании Х и возрастом респондентов"
   ]
  },
  {
   "cell_type": "markdown",
   "id": "556dbc34",
   "metadata": {},
   "source": [
    "Определять зависимость между оценкой логотипа X и возрастом респондентов было бы эффективнее (по крайней мере можно посмотреть коэффициент корреляции, построить график), зная точный возраст отдельного человека, однако у нас даны категории (вохрастные группы). Поэтому в общем случае можно сделать группировку и оценить расхождения."
   ]
  },
  {
   "cell_type": "code",
   "execution_count": 16,
   "id": "80015b02",
   "metadata": {
    "scrolled": true
   },
   "outputs": [
    {
     "data": {
      "text/html": [
       "<div>\n",
       "<style scoped>\n",
       "    .dataframe tbody tr th:only-of-type {\n",
       "        vertical-align: middle;\n",
       "    }\n",
       "\n",
       "    .dataframe tbody tr th {\n",
       "        vertical-align: top;\n",
       "    }\n",
       "\n",
       "    .dataframe thead tr th {\n",
       "        text-align: left;\n",
       "    }\n",
       "\n",
       "    .dataframe thead tr:last-of-type th {\n",
       "        text-align: right;\n",
       "    }\n",
       "</style>\n",
       "<table border=\"1\" class=\"dataframe\">\n",
       "  <thead>\n",
       "    <tr>\n",
       "      <th></th>\n",
       "      <th colspan=\"2\" halign=\"left\">x_scores</th>\n",
       "      <th>delta_score_to_mean</th>\n",
       "      <th>age_index</th>\n",
       "    </tr>\n",
       "    <tr>\n",
       "      <th></th>\n",
       "      <th>mean</th>\n",
       "      <th>count</th>\n",
       "      <th></th>\n",
       "      <th></th>\n",
       "    </tr>\n",
       "    <tr>\n",
       "      <th>age_group</th>\n",
       "      <th></th>\n",
       "      <th></th>\n",
       "      <th></th>\n",
       "      <th></th>\n",
       "    </tr>\n",
       "  </thead>\n",
       "  <tbody>\n",
       "    <tr>\n",
       "      <th>18 - 24 года</th>\n",
       "      <td>8.462428</td>\n",
       "      <td>173</td>\n",
       "      <td>-0.106659</td>\n",
       "      <td>1</td>\n",
       "    </tr>\n",
       "    <tr>\n",
       "      <th>25 - 34 года</th>\n",
       "      <td>8.291080</td>\n",
       "      <td>426</td>\n",
       "      <td>0.064689</td>\n",
       "      <td>2</td>\n",
       "    </tr>\n",
       "    <tr>\n",
       "      <th>35 - 45 лет</th>\n",
       "      <td>8.382789</td>\n",
       "      <td>337</td>\n",
       "      <td>-0.027020</td>\n",
       "      <td>3</td>\n",
       "    </tr>\n",
       "  </tbody>\n",
       "</table>\n",
       "</div>"
      ],
      "text/plain": [
       "              x_scores       delta_score_to_mean age_index\n",
       "                  mean count                              \n",
       "age_group                                                 \n",
       "18 - 24 года  8.462428   173           -0.106659         1\n",
       "25 - 34 года  8.291080   426            0.064689         2\n",
       "35 - 45 лет   8.382789   337           -0.027020         3"
      ]
     },
     "execution_count": 16,
     "metadata": {},
     "output_type": "execute_result"
    }
   ],
   "source": [
    "x_scores_gb = df.groupby('age_group').agg({'x_scores': ['mean', 'count']})\n",
    "x_scores_gb['delta_score_to_mean'] = x_score.mean() - x_scores_gb['x_scores']['mean']\n",
    "x_scores_gb['age_index'] = [1, 2, 3]\n",
    "x_scores_gb"
   ]
  },
  {
   "cell_type": "markdown",
   "id": "f7fb0239",
   "metadata": {},
   "source": [
    "Очевидно, что как отклонения от среднего значения, так и просто различия средних значений по группам очень малы (в первом случае только чуть больше 0,1 по модулю). Кроме того, количество оценщиков в разных группах отличается. К примеру, в первой их достаточно мало, что и объясняет большее отклонение от общего среднего по выборке."
   ]
  },
  {
   "cell_type": "markdown",
   "id": "fee6376a",
   "metadata": {},
   "source": [
    "Можно действовать и более \"количественным\" образом: сравнить общее среднее по x_scores и средние по группам формулируя нулевую гипотезу вроде:\n",
    "- общее среднее оценок логотипов компании Х равно среднему значению конкретной возрастной категории в этой выборке.\n",
    "\n",
    "В целом это \"притянутый за уши\" подход, но попробовать его можно."
   ]
  },
  {
   "cell_type": "code",
   "execution_count": 17,
   "id": "9c515763",
   "metadata": {
    "scrolled": true
   },
   "outputs": [
    {
     "name": "stdout",
     "output_type": "stream",
     "text": [
      "-------- При сравнении среднего возрастной группы 1 и общего среднего --------\n",
      "р-значение: 0.06755233131391898\n",
      "Нельзя отвергнуть Н0\n",
      "-------- При сравнении среднего возрастной группы 2 и общего среднего --------\n",
      "р-значение: 0.26729436548123836\n",
      "Нельзя отвергнуть Н0\n",
      "-------- При сравнении среднего возрастной группы 3 и общего среднего --------\n",
      "р-значение: 0.6430239002345084\n",
      "Нельзя отвергнуть Н0\n"
     ]
    }
   ],
   "source": [
    "interested_value = [el for el in x_scores_gb['x_scores']['mean']]\n",
    "i = 1\n",
    "for el in interested_value:\n",
    "    results = st.ttest_1samp( \n",
    "        x_score,\n",
    "        el) \n",
    "    print('-' * 8, f'При сравнении среднего возрастной группы {i} и общего среднего', '-' * 8)\n",
    "    print('р-значение:', results.pvalue)\n",
    "    if results.pvalue < alpha:\n",
    "        print('Можем отвергнуть Н0')\n",
    "    else:\n",
    "        print('Нельзя отвергнуть Н0')\n",
    "    i += 1"
   ]
  },
  {
   "cell_type": "markdown",
   "id": "6e72966e",
   "metadata": {},
   "source": [
    "Т.е. по факту получаем, что средние значения по группам равны общему среднему по выборке и между собой отличаются незначимо."
   ]
  },
  {
   "cell_type": "markdown",
   "id": "f6498a72",
   "metadata": {},
   "source": [
    "## Выводы"
   ]
  },
  {
   "cell_type": "markdown",
   "id": "b51b39ea",
   "metadata": {},
   "source": [
    "- гипотеза о нормальности распределения оценок опрошенных не подтвердилась (распределения больше похожи на линейные). Причем это актуально для оценко по обеим компаниям;\n",
    "- гипотеза о том, что логотип компании Y в среднем оценивают значимо выше, чем логотип компании X, не подтвердилась;\n",
    "- зависимости между оценкой логотипа X и возрастом респондентов нет."
   ]
  }
 ],
 "metadata": {
  "kernelspec": {
   "display_name": "Python 3 (ipykernel)",
   "language": "python",
   "name": "python3"
  },
  "language_info": {
   "codemirror_mode": {
    "name": "ipython",
    "version": 3
   },
   "file_extension": ".py",
   "mimetype": "text/x-python",
   "name": "python",
   "nbconvert_exporter": "python",
   "pygments_lexer": "ipython3",
   "version": "3.9.12"
  },
  "toc": {
   "base_numbering": 1,
   "nav_menu": {},
   "number_sections": true,
   "sideBar": true,
   "skip_h1_title": false,
   "title_cell": "Table of Contents",
   "title_sidebar": "Contents",
   "toc_cell": false,
   "toc_position": {},
   "toc_section_display": true,
   "toc_window_display": false
  }
 },
 "nbformat": 4,
 "nbformat_minor": 5
}
